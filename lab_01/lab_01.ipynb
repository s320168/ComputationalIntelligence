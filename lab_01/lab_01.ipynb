{
 "cells": [
  {
   "cell_type": "markdown",
   "metadata": {},
   "source": [
    "One state is composed by a set of 'taken tiles' and a set 'not-taken tiles' as {T} {N}\n",
    "The cost of a state is defined as the number of sets it consideres as taken.\n",
    "The heuristic measures how many tiles are needed to cover the missing points of a state based on the number of points covered by each of the not taken tiles.\n",
    "The A* algorithm searches for the optimal set coverage with the minimum number of tiles taken: the function f(n) which computes the priority of a state in this implementation sums its cost and an optimist heuristic. The search stops when a solution is reached (which corresponds to the optimal one). My implementation is slower than the one implemented by the professor but provides the same optimal solutions.\n",
    "\n",
    "Credits: https://github.com/squillero/computational-intelligence/blob/master/2023-24/set-covering_path-search.ipynb"
   ]
  },
  {
   "cell_type": "code",
   "execution_count": 281,
   "metadata": {},
   "outputs": [],
   "source": [
    "from random import random\n",
    "from functools import reduce\n",
    "from collections import namedtuple\n",
    "from queue import PriorityQueue\n",
    "\n",
    "import numpy as np\n",
    "from tqdm.auto import tqdm"
   ]
  },
  {
   "cell_type": "code",
   "execution_count": 282,
   "metadata": {},
   "outputs": [],
   "source": [
    "PROBLEM_SIZE = 20\n",
    "NUM_SETS = 40\n",
    "CHANCE = 0.2\n",
    "SETS = tuple(\n",
    "    np.array([random() < CHANCE for _ in range(PROBLEM_SIZE)])\n",
    "    for _ in range(NUM_SETS)\n",
    ")\n",
    "State = namedtuple(\"State\", [\"taken\", \"not_taken\"])"
   ]
  },
  {
   "cell_type": "code",
   "execution_count": 291,
   "metadata": {},
   "outputs": [],
   "source": [
    "def covered(state):\n",
    "    return reduce(\n",
    "        np.logical_or,\n",
    "        [SETS[i] for i in state.taken],\n",
    "        np.array([False for _ in range(PROBLEM_SIZE)]),\n",
    "    )\n",
    "\n",
    "def distance(state):\n",
    "    return PROBLEM_SIZE - sum(covered(state))\n",
    "\n",
    "def goal_check(state):\n",
    "    return np.all(covered(state))\n",
    "\n",
    "def h(state):\n",
    "    already_covered = covered(state)\n",
    "    if np.all(already_covered):\n",
    "        return 0\n",
    "    missing_size = PROBLEM_SIZE - sum(already_covered)\n",
    "    candidates = sorted([distance(State({i}, set(range(NUM_SETS)) ^ {i})) for i in state.not_taken], reverse=True)\n",
    "    taken = 1\n",
    "    while sum(candidates[:taken]) < missing_size:\n",
    "        taken += 1\n",
    "    return taken\n",
    "    "
   ]
  },
  {
   "cell_type": "code",
   "execution_count": 284,
   "metadata": {},
   "outputs": [],
   "source": [
    "assert goal_check(\n",
    "    State(set(range(NUM_SETS)), set())\n",
    "), \"Problem not solvable\""
   ]
  },
  {
   "cell_type": "code",
   "execution_count": 289,
   "metadata": {},
   "outputs": [
    {
     "data": {
      "application/vnd.jupyter.widget-view+json": {
       "model_id": "0344060420ce4977986c92a6af96fa95",
       "version_major": 2,
       "version_minor": 0
      },
      "text/plain": [
       "0it [00:00, ?it/s]"
      ]
     },
     "metadata": {},
     "output_type": "display_data"
    },
    {
     "name": "stdout",
     "output_type": "stream",
     "text": [
      "Solved in 6397 steps (4 tiles) State(taken={2, 34, 14, 31}, not_taken={0, 1, 3, 4, 5, 6, 7, 8, 9, 10, 11, 12, 13, 15, 16, 17, 18, 19, 20, 21, 22, 23, 24, 25, 26, 27, 28, 29, 30, 32, 33, 35, 36, 37, 38, 39})\n"
     ]
    }
   ],
   "source": [
    "def f(state):\n",
    "    return len(state.taken) + h(state)\n",
    "\n",
    "frontier = PriorityQueue()\n",
    "state = State(set(), set(range(NUM_SETS)))\n",
    "frontier.put((f(state), state))    \n",
    "\n",
    "counter = 0\n",
    "_, current_state = frontier.get()\n",
    "with tqdm(total=None) as pbar:\n",
    "  while not goal_check(current_state):\n",
    "      counter += 1\n",
    "      for action in current_state[1]:\n",
    "          new_state = State(\n",
    "              current_state.taken ^ {action},\n",
    "              current_state.not_taken ^ {action},\n",
    "          )\n",
    "          frontier.put((f(new_state), new_state))\n",
    "      _, current_state = frontier.get()\n",
    "      pbar.update(1)\n",
    "\n",
    "print(f\"Solved in {counter} steps ({len(current_state.taken)} tiles)\", current_state)"
   ]
  }
 ],
 "metadata": {
  "kernelspec": {
   "display_name": "venv",
   "language": "python",
   "name": "python3"
  },
  "language_info": {
   "codemirror_mode": {
    "name": "ipython",
    "version": 3
   },
   "file_extension": ".py",
   "mimetype": "text/x-python",
   "name": "python",
   "nbconvert_exporter": "python",
   "pygments_lexer": "ipython3",
   "version": "3.9.13"
  }
 },
 "nbformat": 4,
 "nbformat_minor": 2
}
