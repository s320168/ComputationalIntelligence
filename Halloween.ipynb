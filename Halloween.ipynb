{
 "cells": [
  {
   "cell_type": "markdown",
   "id": "185f9931-b384-4fdc-a5b2-eea785428bb8",
   "metadata": {},
   "source": [
    "Copyright **`(c)`** 2023 Giovanni Squillero `<giovanni.squillero@polito.it>`  \n",
    "[`https://github.com/squillero/computational-intelligence`](https://github.com/squillero/computational-intelligence)  \n",
    "Free for personal or classroom use; see [`LICENSE.md`](https://github.com/squillero/computational-intelligence/blob/master/LICENSE.md) for details.  "
   ]
  },
  {
   "cell_type": "code",
   "execution_count": 1112,
   "id": "3ffe7245-e849-41d0-9698-5f0e0b83fee9",
   "metadata": {},
   "outputs": [],
   "source": [
    "from itertools import product\n",
    "from functools import reduce\n",
    "from random import random, randint, shuffle, seed, choice\n",
    "import numpy as np\n",
    "from scipy import sparse\n",
    "from copy import copy"
   ]
  },
  {
   "cell_type": "code",
   "execution_count": 1113,
   "id": "6f03bd67-78a0-4d72-95b7-77a918727b91",
   "metadata": {},
   "outputs": [],
   "source": [
    "def make_set_covering_problem(num_points, num_sets, density):\n",
    "    \"\"\"Returns a sparse array where rows are sets and columns are the covered items\"\"\"\n",
    "    seed(num_points*2654435761+num_sets+density)\n",
    "    sets = sparse.lil_array((num_sets, num_points), dtype=bool)\n",
    "    for s, p in product(range(num_sets), range(num_points)):\n",
    "        if random() < density:\n",
    "            sets[s, p] = True\n",
    "    for p in range(num_points):\n",
    "        sets[randint(0, num_sets-1), p] = True\n",
    "    return sets"
   ]
  },
  {
   "cell_type": "markdown",
   "id": "82b0be37-21d9-492d-9a1d-cf0cdf0ddd76",
   "metadata": {},
   "source": [
    "# Halloween Challenge\n",
    "\n",
    "Find the best solution with the fewest calls to the fitness functions for:\n",
    "\n",
    "* `num_points = [100, 1_000, 5_000]`\n",
    "* `num_sets = num_points`\n",
    "* `density = [.3, .7]` "
   ]
  },
  {
   "cell_type": "code",
   "execution_count": 1114,
   "id": "221ffdba-5d3d-48cc-bd08-45ccc9366ea6",
   "metadata": {},
   "outputs": [
    {
     "name": "stdout",
     "output_type": "stream",
     "text": [
      "Element at row=42 and column=42: True\n"
     ]
    }
   ],
   "source": [
    "PROBLEM_SIZE = 100\n",
    "NUM_SETS = PROBLEM_SIZE\n",
    "CHANCE = .3\n",
    "SETS = make_set_covering_problem(PROBLEM_SIZE, NUM_SETS, CHANCE).toarray()\n",
    "print(\"Element at row=42 and column=42:\", SETS[42, 42])"
   ]
  },
  {
   "cell_type": "code",
   "execution_count": 1115,
   "id": "778e9b06",
   "metadata": {},
   "outputs": [],
   "source": [
    "def covered(state):\n",
    "    return reduce(\n",
    "        np.logical_or,\n",
    "        [SETS[i] for i, t in enumerate(state) if t],\n",
    "        np.array([False for _ in range(PROBLEM_SIZE)]),\n",
    "    )\n",
    "\n",
    "def goal_check(state):\n",
    "    return np.all(covered(state))"
   ]
  },
  {
   "cell_type": "code",
   "execution_count": 1116,
   "id": "068bde83",
   "metadata": {},
   "outputs": [],
   "source": [
    "def fitness(state):\n",
    "    cost = sum(state)\n",
    "    valid = np.sum(covered(state))\n",
    "    return valid, -cost\n",
    "\n",
    "def tweak1(state):\n",
    "    new_state = copy(state)\n",
    "    index = randint(0, PROBLEM_SIZE - 1)\n",
    "    new_state[index] = not new_state[index]\n",
    "    return new_state\n",
    "\n",
    "tweak = tweak1"
   ]
  },
  {
   "cell_type": "code",
   "execution_count": 1117,
   "id": "c3d15acb",
   "metadata": {},
   "outputs": [],
   "source": [
    "def random_mutation_HC(state):\n",
    "    step = 0\n",
    "    while not goal_check(state) and step < 100_000:\n",
    "        step += 1\n",
    "        new_state = tweak(copy(state))\n",
    "        if fitness(new_state) > fitness(state):\n",
    "            state = new_state\n",
    "    return state\n",
    "\n",
    "def steepest_step_HC(state):\n",
    "    step = 0\n",
    "    while not goal_check(state) and step < 10_000:\n",
    "        step += 1\n",
    "        new_state = tweak(copy(state))\n",
    "        for _ in range(10):\n",
    "            new_new_state = tweak(copy(state))\n",
    "            if fitness(new_new_state) > fitness(new_state):\n",
    "                new_state = new_new_state\n",
    "        if fitness(new_state) > fitness(state):\n",
    "            state = new_state\n",
    "    return state\n",
    "\n",
    "def simulated_annealing(state):\n",
    "    current_sol = fitness(state)\n",
    "    best_sol = current_sol\n",
    "    t = 1000\n",
    "    while t > 0.1:\n",
    "        step = 0\n",
    "        while step < 100:\n",
    "            step += 1\n",
    "            new_state = tweak(copy(state))\n",
    "            new_sol = fitness(new_state)\n",
    "            if new_sol > current_sol or random() < np.exp(-(current_sol[1]-new_sol[1])/t):\n",
    "                state = new_state\n",
    "                current_sol = new_sol\n",
    "                if current_sol > best_sol:\n",
    "                    best_sol = current_sol\n",
    "        t *= 0.995\n",
    "    return state, best_sol"
   ]
  },
  {
   "cell_type": "code",
   "execution_count": 1118,
   "id": "9bd2f6bd",
   "metadata": {},
   "outputs": [
    {
     "name": "stdout",
     "output_type": "stream",
     "text": [
      "Best solution: (100, -11)\n"
     ]
    }
   ],
   "source": [
    "current_state = [False for _ in range(NUM_SETS)]\n",
    "best_sol = (0, -PROBLEM_SIZE)\n",
    "tot_sets = 0\n",
    "num_sol = 0\n",
    "\n",
    "for _ in range(1):\n",
    "    current_state = random_mutation_HC(current_state)\n",
    "    current_sol = fitness(current_state)\n",
    "    if current_sol[0]:\n",
    "        tot_sets += current_sol[1]\n",
    "        num_sol += 1\n",
    "    if current_sol > best_sol:\n",
    "        best_sol = current_sol\n",
    "print(\"Best solution:\", best_sol)"
   ]
  },
  {
   "cell_type": "code",
   "execution_count": 1119,
   "id": "8b5539ab",
   "metadata": {},
   "outputs": [
    {
     "name": "stdout",
     "output_type": "stream",
     "text": [
      "Best solution: (100, -8)\n"
     ]
    }
   ],
   "source": [
    "current_state = [False for _ in range(NUM_SETS)]\n",
    "best_sol = (0, -PROBLEM_SIZE)\n",
    "tot_sets = 0\n",
    "num_sol = 0\n",
    "\n",
    "for _ in range(1):\n",
    "    current_state = steepest_step_HC(current_state)\n",
    "    current_sol = fitness(current_state)\n",
    "    if current_sol[0]:\n",
    "        tot_sets += current_sol[1]\n",
    "        num_sol += 1\n",
    "    if current_sol > best_sol:\n",
    "        best_sol = current_sol\n",
    "print(\"Best solution:\", best_sol)"
   ]
  },
  {
   "cell_type": "code",
   "execution_count": 1120,
   "id": "2ecedc17",
   "metadata": {},
   "outputs": [
    {
     "name": "stdout",
     "output_type": "stream",
     "text": [
      "Best solution: (100, -8)\n"
     ]
    }
   ],
   "source": [
    "current_state = [choice([True, False]) for _ in range(NUM_SETS)]\n",
    "best_sol = (0, -PROBLEM_SIZE)\n",
    "tot_sets = 0\n",
    "num_sol = 0\n",
    "\n",
    "for _ in range(1):\n",
    "    current_state, best_sol = simulated_annealing(current_state)\n",
    "    current_sol = fitness(current_state)\n",
    "    if current_sol[0]:\n",
    "        tot_sets += current_sol[1]\n",
    "        num_sol += 1\n",
    "print(\"Best solution:\", best_sol)"
   ]
  }
 ],
 "metadata": {
  "kernelspec": {
   "display_name": "Python 3 (ipykernel)",
   "language": "python",
   "name": "python3"
  },
  "language_info": {
   "codemirror_mode": {
    "name": "ipython",
    "version": 3
   },
   "file_extension": ".py",
   "mimetype": "text/x-python",
   "name": "python",
   "nbconvert_exporter": "python",
   "pygments_lexer": "ipython3",
   "version": "3.9.13"
  }
 },
 "nbformat": 4,
 "nbformat_minor": 5
}
