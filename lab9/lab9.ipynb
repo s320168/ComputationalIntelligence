{
 "cells": [
  {
   "cell_type": "markdown",
   "metadata": {},
   "source": [
    "Copyright **`(c)`** 2023 Giovanni Squillero `<giovanni.squillero@polito.it>`  \n",
    "[`https://github.com/squillero/computational-intelligence`](https://github.com/squillero/computational-intelligence)  \n",
    "Free for personal or classroom use; see [`LICENSE.md`](https://github.com/squillero/computational-intelligence/blob/master/LICENSE.md) for details.  "
   ]
  },
  {
   "cell_type": "markdown",
   "metadata": {},
   "source": [
    "# LAB9\n",
    "\n",
    "Write a local-search algorithm (eg. an EA) able to solve the *Problem* instances 1, 2, 5, and 10 on a 1000-loci genomes, using a minimum number of fitness calls. That's all.\n",
    "\n",
    "### Deadlines:\n",
    "\n",
    "* Submission: Sunday, December 3 ([CET](https://www.timeanddate.com/time/zones/cet))\n",
    "* Reviews: Sunday, December 10 ([CET](https://www.timeanddate.com/time/zones/cet))\n",
    "\n",
    "Notes:\n",
    "\n",
    "* Reviews will be assigned  on Monday, December 4\n",
    "* You need to commit in order to be selected as a reviewer (ie. better to commit an empty work than not to commit)"
   ]
  },
  {
   "cell_type": "code",
   "execution_count": 1,
   "metadata": {},
   "outputs": [],
   "source": [
    "from random import choices\n",
    "\n",
    "import lab9_lib\n",
    "from random import random, choice, randint\n",
    "from copy import copy\n",
    "from dataclasses import dataclass\n",
    "import numpy as np"
   ]
  },
  {
   "cell_type": "code",
   "execution_count": 2,
   "metadata": {},
   "outputs": [],
   "source": [
    "POPULATION_SIZE = 200\n",
    "OFFSPRING_SIZE = 300\n",
    "TOURNAMENT_SIZE = 2\n",
    "MUTATION_PROBABILITY = .15\n",
    "PROBLEM_SIZE = 1\n",
    "GENOME_SIZE = 1000"
   ]
  },
  {
   "cell_type": "code",
   "execution_count": 3,
   "metadata": {},
   "outputs": [],
   "source": [
    "fitness = lab9_lib.make_problem(PROBLEM_SIZE)"
   ]
  },
  {
   "cell_type": "code",
   "execution_count": 4,
   "metadata": {},
   "outputs": [],
   "source": [
    "@dataclass\n",
    "class Individual:\n",
    "    fitness: tuple\n",
    "    genotype: list[int]\n",
    "\n",
    "\n",
    "def select_parent(pop):\n",
    "    pool = [choice(pop) for _ in range(TOURNAMENT_SIZE)]\n",
    "    champion = max(pool, key=lambda i: i.fitness)\n",
    "    return champion\n",
    "\n",
    "\n",
    "def mutate(ind: Individual) -> Individual:\n",
    "    offspring = copy(ind)\n",
    "    pos = randint(0, GENOME_SIZE - 1)\n",
    "    offspring.genotype[pos] = 1 - offspring.genotype[pos]\n",
    "    offspring.fitness = None\n",
    "    return offspring\n",
    "\n",
    "\n",
    "def mutate_random(ind: Individual) -> Individual:\n",
    "    offspring = copy(ind)\n",
    "    for i in range(GENOME_SIZE):\n",
    "        if random() < MUTATION_PROBABILITY:\n",
    "            offspring.genotype[i] = 1 - offspring.genotype[i]\n",
    "    offspring.fitness = None\n",
    "    return offspring\n",
    "\n",
    "\n",
    "def one_cut_xover(ind1: Individual, ind2: Individual) -> Individual:\n",
    "    cut_point = randint(0, GENOME_SIZE - 1)\n",
    "    offspring = Individual(\n",
    "        fitness=None,\n",
    "        genotype=ind1.genotype[:cut_point]\n",
    "        + ind2.genotype[cut_point:],\n",
    "    )\n",
    "    assert len(offspring.genotype) == GENOME_SIZE\n",
    "    return offspring\n",
    "\n",
    "\n",
    "def xover(ind1: Individual, ind2: Individual) -> Individual:\n",
    "    [first, second] = sorted([ind1, ind2], key=lambda i: i.fitness)\n",
    "    return Individual(\n",
    "        fitness=None,\n",
    "        genotype=[\n",
    "            f if .7 > r else s\n",
    "            for f, s, r in zip(\n",
    "                first.genotype,\n",
    "                second.genotype,\n",
    "                np.random.random(size=GENOME_SIZE),\n",
    "            )\n",
    "        ],\n",
    "    )"
   ]
  },
  {
   "cell_type": "code",
   "execution_count": 5,
   "metadata": {},
   "outputs": [],
   "source": [
    "population = [\n",
    "    Individual(\n",
    "        genotype=[choice([0, 1]) for _ in range(GENOME_SIZE)],\n",
    "        fitness=None,\n",
    "    )\n",
    "    for _ in range(POPULATION_SIZE)\n",
    "]\n",
    "\n",
    "for i in population:\n",
    "    i.fitness = fitness(i.genotype)\n",
    "\n",
    "best_ind = max(population, key=lambda i: i.fitness)"
   ]
  },
  {
   "cell_type": "code",
   "execution_count": 6,
   "metadata": {},
   "outputs": [
    {
     "name": "stdout",
     "output_type": "stream",
     "text": [
      "Max fitness: 100.00%\n",
      "Number of fitness calls: 28100\n"
     ]
    }
   ],
   "source": [
    "for generation in range(1000):\n",
    "    offspring = list()\n",
    "    for counter in range(OFFSPRING_SIZE):\n",
    "        p1 = select_parent(population)\n",
    "        p2 = select_parent(population)\n",
    "        o = xover(p1, p2)\n",
    "        o = mutate(o)\n",
    "        offspring.append(o)\n",
    "\n",
    "    for i in offspring:\n",
    "        i.fitness = fitness(i.genotype)\n",
    "    population.extend(offspring)\n",
    "    population.sort(key=lambda i: i.fitness, reverse=True)\n",
    "    population = population[:POPULATION_SIZE]\n",
    "    if population[0].fitness == 1:\n",
    "        best_ind = population[0]\n",
    "        break\n",
    "    \n",
    "print(f\"Max fitness: {best_ind.fitness:.2%}\")\n",
    "print(f\"Number of fitness calls: {fitness.calls}\")"
   ]
  }
 ],
 "metadata": {
  "kernelspec": {
   "display_name": "ci-fLJ3OwGs-py3.12",
   "language": "python",
   "name": "python3"
  },
  "language_info": {
   "codemirror_mode": {
    "name": "ipython",
    "version": 3
   },
   "file_extension": ".py",
   "mimetype": "text/x-python",
   "name": "python",
   "nbconvert_exporter": "python",
   "pygments_lexer": "ipython3",
   "version": "3.9.13"
  }
 },
 "nbformat": 4,
 "nbformat_minor": 2
}
