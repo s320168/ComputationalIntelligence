{
 "cells": [
  {
   "cell_type": "code",
   "execution_count": 1,
   "metadata": {},
   "outputs": [],
   "source": [
    "import random\n",
    "from game import Game, Move, Player\n",
    "from tqdm import trange\n",
    "from copy import deepcopy"
   ]
  },
  {
   "cell_type": "code",
   "execution_count": 2,
   "metadata": {},
   "outputs": [],
   "source": [
    "class RandomPlayer(Player):\n",
    "    def __init__(self) -> None:\n",
    "        super().__init__()\n",
    "\n",
    "    def make_move(self, game: 'Game') -> tuple[tuple[int, int], Move]:\n",
    "        from_pos = (random.randint(0, 4), random.randint(0, 4))\n",
    "        move = random.choice([Move.TOP, Move.BOTTOM, Move.LEFT, Move.RIGHT])\n",
    "        return from_pos, move"
   ]
  },
  {
   "cell_type": "code",
   "execution_count": 3,
   "metadata": {},
   "outputs": [],
   "source": [
    "class MinimaxPlayer(Player):\n",
    "    def __init__(self, max_depth=3):\n",
    "        super().__init__()\n",
    "        # depth of minimax search\n",
    "        self.max_depth = max_depth\n",
    "        # id that identifies the agent's token, gets updated each move\n",
    "        self.player_id = None\n",
    "        # all the border positions from which is possible to extract a cube\n",
    "        self.border_cubes = [(0, i) for i in range(5)] + [(4, i) for i in range(1, 5)] + [(i, 0) for i in range(5)] + [(i, 4) for i in range(1, 4)]\n",
    "        # all the possible cube slides\n",
    "        self.possible_slides = [Move.TOP, Move.BOTTOM, Move.LEFT, Move.RIGHT]\n",
    "\n",
    "    def make_move(self, game: 'Game') -> tuple[tuple[int, int], Move]:\n",
    "        # each player's move stores its role in the current game\n",
    "        self.player_id = game.get_current_player()\n",
    "        # best move tuple gets decided by a minimax policy\n",
    "        _, best_move = self.minimax(game, self.max_depth, float('-inf'), float('inf'), True)\n",
    "        return best_move\n",
    "\n",
    "    def minimax(self, game: 'Game', depth, alpha, beta, maximizing_player):\n",
    "        # if the recursion is at the final depth level or the current node is a final state of the game \n",
    "        if depth == 0 or game.check_winner() >= 0:\n",
    "            # backpropagate the value of the state and a None-move\n",
    "            return self.state_value(game.get_board()), None\n",
    "\n",
    "        # if the current step is about maximization\n",
    "        if maximizing_player:\n",
    "            # reset best values\n",
    "            max_eval = float('-inf')\n",
    "            best_move = None\n",
    "            # compute which cubes can be extracted from the board\n",
    "            positions = self.get_possible_moves(game, self.player_id)\n",
    "\n",
    "            # for each possible cube\n",
    "            for from_pos in positions:\n",
    "                # try each move direction\n",
    "                for move in self.possible_slides:\n",
    "                    # copy the current state and test if the chosen move is legal\n",
    "                    new_game = deepcopy(game)\n",
    "                    if new_game._Game__move(from_pos, move, self.player_id):\n",
    "                        # if the move is legal proceed to the minimization step\n",
    "                        eval, _ = self.minimax(new_game, depth - 1, alpha, beta, False)\n",
    "                        # if the state value reached with (from_pos, move) ply is the best found yet\n",
    "                        if eval > max_eval:\n",
    "                            # update best values\n",
    "                            max_eval = eval\n",
    "                            best_move = (from_pos, move)\n",
    "                        # if the max value is higher than bound beta it's not possible to find better solutions\n",
    "                        if max_eval >= beta:\n",
    "                            break\n",
    "                        # update bound alpha\n",
    "                        alpha = max(alpha, eval)\n",
    "\n",
    "            return max_eval, best_move\n",
    "            \n",
    "        # if the current step is about maximization\n",
    "        else:\n",
    "            # reset best values\n",
    "            min_eval = float('inf')\n",
    "            best_move = None\n",
    "            # compute which cubes can be extracted from the board\n",
    "            positions = self.get_possible_moves(game, 1 - self.player_id)\n",
    "\n",
    "            # for each possible cube\n",
    "            for from_pos in positions:\n",
    "                # try each move direction\n",
    "                for move in self.possible_slides:\n",
    "                    # copy the current state and test if the chosen move is legal\n",
    "                    new_game = deepcopy(game)\n",
    "                    if new_game._Game__move(from_pos, move, 1 - self.player_id):\n",
    "                        # if the move is legal proceed to the maximization step\n",
    "                        eval, _ = self.minimax(new_game, depth - 1, alpha, beta, True)\n",
    "                        if eval < min_eval:\n",
    "                            # update best values\n",
    "                            min_eval = eval\n",
    "                            best_move = (from_pos, move)\n",
    "                        # if the min value is lower than alpha it's not possible to find better solutions\n",
    "                        if min_eval <= alpha:\n",
    "                            break\n",
    "                        # update bound beta\n",
    "                        beta = min(beta, min_eval)\n",
    "\n",
    "            return min_eval, best_move\n",
    "\n",
    "    def state_value(self, state):\n",
    "        # evaluate current state\n",
    "        test = Game()\n",
    "        test._board = state\n",
    "        res = test.check_winner()\n",
    "        #if minimax agent won: return a positive value\n",
    "        if res == self.player_id:\n",
    "            return 1\n",
    "        # if minimax agent lost: return a negative value\n",
    "        if res == 1 - self.player_id:\n",
    "            return -1\n",
    "        # else return a postive value corresponding to the highest \n",
    "        # number of simbols in a single row/column/diagonal\n",
    "        return self.check_board(state)\n",
    "    \n",
    "    def check_board(self, state):\n",
    "        # evaluate how close the current state is to a winning state\n",
    "        max_score = 0\n",
    "        # for each row\n",
    "        for x in range(state.shape[0]):\n",
    "            # update the max count about how many cells the player took\n",
    "            score = sum(state[x, :] == self.player_id)\n",
    "            if score > max_score:\n",
    "                max_score = score\n",
    "        # for each column\n",
    "        for y in range(state.shape[1]):\n",
    "            # update the max count about how many cells the player took\n",
    "            score = sum(state[:, y] == self.player_id)\n",
    "            if score > max_score:\n",
    "                max_score = score\n",
    "        # check the diagonal\n",
    "        score = sum([1 for x in range(state.shape[0]) if state[x, x] == self.player_id])\n",
    "        if score > max_score:\n",
    "            max_score = score\n",
    "        # check the anti-diagonal\n",
    "        score = sum([1 for x in range(state.shape[0]) if state[x, -(x + 1)] == self.player_id])\n",
    "        if score > max_score:\n",
    "            max_score = score\n",
    "        return max_score / 5\n",
    "\n",
    "    def get_possible_moves(self, game: 'Game', current_player_idx: int):\n",
    "        # get all possible moves for the current player\n",
    "        moves = []\n",
    "        # in each border position\n",
    "        for cube in self.border_cubes:\n",
    "            # check if the cube is not a cube owned by the opponent\n",
    "            if game.get_board()[cube[1], cube[0]] != 1 - current_player_idx:\n",
    "                # if it isn't add it to the available cubes\n",
    "                moves.extend([cube])\n",
    "        return moves"
   ]
  },
  {
   "cell_type": "code",
   "execution_count": 4,
   "metadata": {},
   "outputs": [],
   "source": [
    "randomP = RandomPlayer()\n",
    "minimaxP = MinimaxPlayer(2)"
   ]
  },
  {
   "cell_type": "code",
   "execution_count": 5,
   "metadata": {},
   "outputs": [
    {
     "name": "stderr",
     "output_type": "stream",
     "text": [
      "100%|██████████| 100/100 [00:52<00:00,  1.91it/s]"
     ]
    },
    {
     "name": "stdout",
     "output_type": "stream",
     "text": [
      "Results when playing first 99%\n"
     ]
    },
    {
     "name": "stderr",
     "output_type": "stream",
     "text": [
      "\n"
     ]
    }
   ],
   "source": [
    "wins = 0\n",
    "for _ in trange(100):\n",
    "    g = Game()\n",
    "    winner = g.play(minimaxP, randomP)\n",
    "    if winner == minimaxP.player_id:\n",
    "        wins += 1\n",
    "print(f\"Results when playing first {wins}%\")"
   ]
  },
  {
   "cell_type": "code",
   "execution_count": 6,
   "metadata": {},
   "outputs": [
    {
     "name": "stderr",
     "output_type": "stream",
     "text": [
      "100%|██████████| 100/100 [00:57<00:00,  1.75it/s]"
     ]
    },
    {
     "name": "stdout",
     "output_type": "stream",
     "text": [
      "Results when playing second 99%\n"
     ]
    },
    {
     "name": "stderr",
     "output_type": "stream",
     "text": [
      "\n"
     ]
    }
   ],
   "source": [
    "wins = 0\n",
    "for _ in trange(100):\n",
    "    g = Game()\n",
    "    winner = g.play(randomP, minimaxP)\n",
    "    if winner == minimaxP.player_id:\n",
    "        wins += 1\n",
    "print(f\"Results when playing second {wins}%\")"
   ]
  }
 ],
 "metadata": {
  "kernelspec": {
   "display_name": "base",
   "language": "python",
   "name": "python3"
  },
  "language_info": {
   "codemirror_mode": {
    "name": "ipython",
    "version": 3
   },
   "file_extension": ".py",
   "mimetype": "text/x-python",
   "name": "python",
   "nbconvert_exporter": "python",
   "pygments_lexer": "ipython3",
   "version": "3.9.13"
  }
 },
 "nbformat": 4,
 "nbformat_minor": 2
}
