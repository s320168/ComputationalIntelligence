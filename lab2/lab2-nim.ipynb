{
 "cells": [
  {
   "cell_type": "markdown",
   "metadata": {
    "pycharm": {
     "name": "#%% md\n"
    }
   },
   "source": [
    "Copyright **`(c)`** 2022 Giovanni Squillero `<squillero@polito.it>`  \n",
    "[`https://github.com/squillero/computational-intelligence`](https://github.com/squillero/computational-intelligence)  \n",
    "Free for personal or classroom use; see [`LICENSE.md`](https://github.com/squillero/computational-intelligence/blob/master/LICENSE.md) for details.  \n"
   ]
  },
  {
   "cell_type": "markdown",
   "metadata": {
    "pycharm": {
     "name": "#%%\n"
    }
   },
   "source": [
    "# Lab 2: ES\n",
    "\n",
    "## Task\n",
    "\n",
    "Write agents able to play [*Nim*](https://en.wikipedia.org/wiki/Nim), with an arbitrary number of rows and an upper bound $k$ on the number of objects that can be removed in a turn (a.k.a., *subtraction game*).\n",
    "\n",
    "The goal of the game is to **avoid** taking the last object.\n",
    "\n",
    "* Task2.1: An agent using fixed rules based on *nim-sum* (i.e., an *expert system*)\n",
    "* Task2.2: An agent using evolved rules using ES\n",
    "\n",
    "## Instructions\n",
    "\n",
    "* Create the directory `lab2` inside your personal course repository for the course \n",
    "* Put a `README.md` and your solution (all the files, code and auxiliary data if needed)\n",
    "\n",
    "## Notes\n",
    "\n",
    "* Working in group is not only allowed, but recommended (see: [Ubuntu](https://en.wikipedia.org/wiki/Ubuntu_philosophy) and [Cooperative Learning](https://files.eric.ed.gov/fulltext/EJ1096789.pdf)). Collaborations must be explicitly declared in the `README.md`.\n",
    "* [Yanking](https://www.emacswiki.org/emacs/KillingAndYanking) from the internet is allowed, but sources must be explicitly declared in the `README.md`.\n",
    "\n"
   ]
  },
  {
   "cell_type": "code",
   "execution_count": 425,
   "metadata": {},
   "outputs": [],
   "source": [
    "import logging\n",
    "from pprint import pprint, pformat\n",
    "from collections import namedtuple\n",
    "import random\n",
    "from copy import deepcopy\n",
    "from math import ceil\n",
    "from tqdm.notebook import tqdm"
   ]
  },
  {
   "cell_type": "markdown",
   "metadata": {},
   "source": [
    "## The *Nim* and *Nimply* classes"
   ]
  },
  {
   "cell_type": "code",
   "execution_count": 426,
   "metadata": {},
   "outputs": [],
   "source": [
    "Nimply = namedtuple(\"Nimply\", \"row, num_objects\")\n"
   ]
  },
  {
   "cell_type": "code",
   "execution_count": 427,
   "metadata": {},
   "outputs": [],
   "source": [
    "class Nim:\n",
    "    def __init__(self, num_rows: int, k: int = None) -> None:\n",
    "        self._rows = [i * 2 + 1 for i in range(num_rows)]\n",
    "        self._k = k\n",
    "\n",
    "    def __bool__(self):\n",
    "        return sum(self._rows) > 0\n",
    "\n",
    "    def __str__(self):\n",
    "        return \"<\" + \" \".join(str(_) for _ in self._rows) + \">\"\n",
    "\n",
    "    @property\n",
    "    def rows(self) -> tuple:\n",
    "        return tuple(self._rows)\n",
    "\n",
    "    def nimming(self, ply: Nimply) -> None:\n",
    "        row, num_objects = ply\n",
    "        assert self._rows[row] >= num_objects\n",
    "        assert self._k is None or num_objects <= self._k\n",
    "        self._rows[row] -= num_objects\n"
   ]
  },
  {
   "cell_type": "markdown",
   "metadata": {},
   "source": [
    "## Sample (and silly) startegies "
   ]
  },
  {
   "cell_type": "code",
   "execution_count": 428,
   "metadata": {},
   "outputs": [],
   "source": [
    "def pure_random(state: Nim) -> Nimply:\n",
    "    \"\"\"A completely random move\"\"\"\n",
    "    row = random.choice([r for r, c in enumerate(state.rows) if c > 0])\n",
    "    num_objects = random.randint(1, state.rows[row] if state._k is None else min(state.rows[row], state._k))\n",
    "    return Nimply(row, num_objects)\n"
   ]
  },
  {
   "cell_type": "code",
   "execution_count": 429,
   "metadata": {},
   "outputs": [],
   "source": [
    "def gabriele(state: Nim) -> Nimply:\n",
    "    \"\"\"Pick always the maximum possible number of the lowest row\"\"\"\n",
    "    possible_moves = [(r, o if state._k is None else min(state.rows[r], state._k)) for r, c in enumerate(state.rows) for o in range(1, c + 1)]\n",
    "    return Nimply(*max(possible_moves, key=lambda m: (-m[0], m[1])))\n"
   ]
  },
  {
   "cell_type": "code",
   "execution_count": 430,
   "metadata": {},
   "outputs": [],
   "source": [
    "import numpy as np\n",
    "\n",
    "\n",
    "def nim_sum(state: Nim) -> int:\n",
    "    tmp = np.array([tuple(int(x) for x in f\"{c:032b}\") for c in state.rows])\n",
    "    xor = tmp.sum(axis=0) % 2\n",
    "    return int(\"\".join(str(_) for _ in xor), base=2)\n",
    "\n",
    "\n",
    "def analize(raw: Nim) -> dict:\n",
    "    cooked = dict()\n",
    "    cooked[\"possible_moves\"] = dict()\n",
    "    for ply in (Nimply(r, o if raw._k is None else min(raw.rows[r], raw._k)) for r, c in enumerate(raw.rows) for o in range(1, c + 1)):\n",
    "        tmp = deepcopy(raw)\n",
    "        tmp.nimming(ply)\n",
    "        cooked[\"possible_moves\"][ply] = nim_sum(tmp)\n",
    "    return cooked\n",
    "\n",
    "\n",
    "def optimal(state: Nim) -> Nimply:\n",
    "    analysis = analize(state)\n",
    "    logging.debug(f\"analysis:\\n{pformat(analysis)}\")\n",
    "    spicy_moves = [ply for ply, ns in analysis[\"possible_moves\"].items() if ns != 0]\n",
    "    if not spicy_moves:\n",
    "        spicy_moves = list(analysis[\"possible_moves\"].keys())\n",
    "    ply = random.choice(spicy_moves)\n",
    "    return ply\n"
   ]
  },
  {
   "cell_type": "markdown",
   "metadata": {},
   "source": [
    "## Expert Strategy\n",
    "\n",
    "This should be a better version of the optimal strategy since it gives priority to the moves where more matches are taken, it also takes into account the upper bound k if defined."
   ]
  },
  {
   "cell_type": "code",
   "execution_count": 431,
   "metadata": {
    "tags": []
   },
   "outputs": [],
   "source": [
    "def expert(raw: Nim) -> Nimply:\n",
    "    singles = []\n",
    "    not_singles = []\n",
    "    for i in range(len(raw.rows)):\n",
    "        if raw.rows[i] == 1:\n",
    "            singles.append(i)\n",
    "        elif raw.rows[i] > 1:\n",
    "            not_singles.append((i, raw.rows[i]))\n",
    "    if len(not_singles) == 1 and (raw._k is None or not_singles[0][1] <= raw._k):\n",
    "        if len(singles) % 2:\n",
    "            return(Nimply(not_singles[0][0], not_singles[0][1]))\n",
    "        else:\n",
    "            return(Nimply(not_singles[0][0], not_singles[0][1] - 1))\n",
    "    val = min(max(raw.rows), 999 if raw._k is None else raw._k)\n",
    "    while (val > 0):\n",
    "        for i in reversed(range(len(raw.rows))):\n",
    "            if raw.rows[i] == 0: continue\n",
    "            test = deepcopy(raw)\n",
    "            ply = Nimply(i, val if test.rows[i] >= val else min(test.rows[i], 999 if test._k is None else raw._k))\n",
    "            test.nimming(ply)\n",
    "            if nim_sum(test) != 0:\n",
    "              return ply\n",
    "        val -= 1\n",
    "    if val == 0:\n",
    "        for i in range(len(raw.rows)):\n",
    "            if int(raw.rows[i]) > 0:\n",
    "                return Nimply(i, min(raw.rows[i], 999 if raw._k is None else raw._k))"
   ]
  },
  {
   "cell_type": "code",
   "execution_count": 432,
   "metadata": {},
   "outputs": [],
   "source": [
    "class Player:\n",
    "    def __init__(self, strategy: str) -> None:\n",
    "        self.strategy = strategy\n",
    "    \n",
    "    def play(self, raw: Nim) -> Nimply:\n",
    "        if self.strategy == \"expert\":\n",
    "            return expert(raw)\n",
    "        if self.strategy == \"gabriele\":\n",
    "            return gabriele(raw)\n",
    "        if self.strategy == \"optimal\":\n",
    "            return optimal(raw)\n",
    "        if self.strategy == \"pure_random\":\n",
    "            return pure_random(raw)\n",
    "      "
   ]
  },
  {
   "cell_type": "markdown",
   "metadata": {},
   "source": [
    "## Adaptive"
   ]
  },
  {
   "cell_type": "code",
   "execution_count": 433,
   "metadata": {},
   "outputs": [],
   "source": [
    "class Adaptive:\n",
    "    def __init__(self) -> None:\n",
    "        self.genome = {\"love_small_row\": random.random(), \"love_large_row\": random.random(), \"love_small_num\": random.random(), \"love_large_num\": random.random()}\n",
    "        self.fitness = 0\n",
    "\n",
    "    def play(self, nim: Nim, GAME_DIM=5):\n",
    "        row = min(max(ceil(self.genome[\"love_small_row\"] * 1 + self.genome[\"love_large_row\"] * (GAME_DIM-1)), 0), GAME_DIM-1)\n",
    "        row = row if nim.rows[row] > 0 else random.choice([r for r in range(GAME_DIM) if nim.rows[r] > 0])\n",
    "        number = min(max(ceil(self.genome[\"love_small_num\"] * 1 + self.genome[\"love_large_num\"] * (2*GAME_DIM-1 if nim._k is None else min(nim._k, 2*GAME_DIM-1))), 1), nim.rows[row] if nim._k is None else min(nim._k, nim.rows[row]))\n",
    "        number = number if nim.rows[row] >= number else nim.rows[row]\n",
    "        ply = Nimply(row, number)\n",
    "        if ply.num_objects != 0:\n",
    "            return ply\n",
    "            \n",
    "    def increment_fitness(self, result: int) -> None:\n",
    "        self.fitness += result\n",
    "\n",
    "    def get_fitness(self) -> int:\n",
    "        return self.fitness\n",
    "    \n",
    "    def reset_fitness(self) -> None:\n",
    "        self.fitness = 0\n",
    "    \n",
    "    def mutate(self, sig) -> None:\n",
    "        self.genome[\"love_small_row\"] += random.gauss(0, sig)\n",
    "        self.genome[\"love_large_row\"] += random.gauss(0, sig)\n",
    "        self.genome[\"love_small_num\"] += random.gauss(0, sig)\n",
    "        self.genome[\"love_large_num\"] += random.gauss(0, sig)\n",
    "        self.reset_fitness()"
   ]
  },
  {
   "cell_type": "code",
   "execution_count": 434,
   "metadata": {},
   "outputs": [],
   "source": [
    "def game(strategy: list, GAME_DIM=5, verbose=False) -> int:\n",
    "    nim = Nim(GAME_DIM, 5)\n",
    "    player = 0\n",
    "    while nim:\n",
    "        ply = strategy[player].play(nim)\n",
    "        if verbose: print(f\"ply: player {player} plays {ply}\")\n",
    "        nim.nimming(ply)\n",
    "        if verbose: print(f\"status: {nim}\")\n",
    "        player = 1 - player\n",
    "    if verbose: print(f\"status: Player {player} won!\")\n",
    "    return player"
   ]
  },
  {
   "cell_type": "markdown",
   "metadata": {},
   "source": [
    "## Selection"
   ]
  },
  {
   "cell_type": "code",
   "execution_count": 435,
   "metadata": {},
   "outputs": [
    {
     "data": {
      "application/vnd.jupyter.widget-view+json": {
       "model_id": "2c9cbd4d815e4bfba060efea28a00ea6",
       "version_major": 2,
       "version_minor": 0
      },
      "text/plain": [
       "  0%|          | 0/1000 [00:00<?, ?it/s]"
      ]
     },
     "metadata": {},
     "output_type": "display_data"
    }
   ],
   "source": [
    "mu = 5\n",
    "lam = 50\n",
    "sig = 0.1\n",
    "\n",
    "population = [Adaptive() for _ in range(lam)]\n",
    "\n",
    "for step in tqdm(range(50000 // lam)):\n",
    "    # compute every individual's fitness based on number of games won (once playing first and once playing second against everyone)\n",
    "    for j in range(len(population)):\n",
    "        for k in range(len(population)):\n",
    "            if j != k:\n",
    "                population[j].increment_fitness(1 - game([population[j], population[k]]))\n",
    "                population[j].increment_fitness(game([population[k], population[j]]))\n",
    "    population = sorted(population, key=lambda a: a.get_fitness(), reverse=True)\n",
    "    winner = population[0]\n",
    "    # select mu best individuals to create their offspring\n",
    "    offspring = population[:mu] * (lam//mu)\n",
    "    population = population[:mu]\n",
    "    # offspring mutation\n",
    "    for o in offspring:\n",
    "        o.mutate(sig)\n",
    "    for p in population:\n",
    "        p.reset_fitness()\n",
    "    #population for next iteration\n",
    "    population = population + offspring"
   ]
  },
  {
   "cell_type": "markdown",
   "metadata": {},
   "source": [
    "## Benchmark"
   ]
  },
  {
   "cell_type": "code",
   "execution_count": 436,
   "metadata": {},
   "outputs": [
    {
     "name": "stdout",
     "output_type": "stream",
     "text": [
      "Adaptive champion wins 43.0% of the time against expert\n",
      "Adaptive champion wins 75.0% of the time against optimal\n",
      "Adaptive champion wins 70.0% of the time against gabriele\n",
      "Adaptive champion wins 66.0% of the time against pure_random\n"
     ]
    }
   ],
   "source": [
    "N_GAMES = 100\n",
    "strategies = [\"expert\", \"optimal\", \"gabriele\", \"pure_random\"]\n",
    "\n",
    "# the best individual competes with every other strategy to produce a benchmark\n",
    "for strat in strategies:\n",
    "    player = Player(strat)\n",
    "    adaptive_wins = 0\n",
    "    for _ in range(int(N_GAMES/2)):\n",
    "        if game([winner, player]) == 0:\n",
    "            adaptive_wins += 1\n",
    "        if game([player, winner]):\n",
    "            adaptive_wins += 1\n",
    "    print(f\"Adaptive champion wins {adaptive_wins/N_GAMES*100}% of the time against {player.strategy}\")"
   ]
  }
 ],
 "metadata": {
  "kernelspec": {
   "display_name": "Python 3.10.7 ('ci22-dPIXJ0_o-py3.10')",
   "language": "python",
   "name": "python3"
  },
  "language_info": {
   "codemirror_mode": {
    "name": "ipython",
    "version": 3
   },
   "file_extension": ".py",
   "mimetype": "text/x-python",
   "name": "python",
   "nbconvert_exporter": "python",
   "pygments_lexer": "ipython3",
   "version": "3.9.13"
  },
  "vscode": {
   "interpreter": {
    "hash": "10197e8e2f2aa67e2c349105091c77f4cd384fce4877865f002d9ec653f96bc0"
   }
  }
 },
 "nbformat": 4,
 "nbformat_minor": 2
}
